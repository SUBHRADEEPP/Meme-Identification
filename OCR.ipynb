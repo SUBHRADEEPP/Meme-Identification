{
 "cells": [
  {
   "cell_type": "markdown",
   "id": "8445ed28",
   "metadata": {},
   "source": [
    "<h2> Optical Charater Recognition </h2>"
   ]
  },
  {
   "cell_type": "code",
   "execution_count": 2,
   "id": "f73f4b3c",
   "metadata": {},
   "outputs": [],
   "source": [
    "import cv2 as cv\n",
    "from PIL import Image\n",
    "import pytesseract\n",
    "import matplotlib.pyplot as plt\n",
    "import pandas as pd\n",
    "import numpy as np\n",
    "import glob \n",
    "\n",
    "%matplotlib inline"
   ]
  },
  {
   "cell_type": "code",
   "execution_count": 3,
   "id": "07fe567a",
   "metadata": {},
   "outputs": [],
   "source": [
    "#function to resize the images to a larger scale for better visibility\n",
    "\n",
    "def resize_image(image,scale = 1.5):\n",
    "    width = int(image.shape[0]*scale)\n",
    "    height =  int(image.shape[1]*scale)\n",
    "    dimension = (width,height)\n",
    "    return cv.resize(image,dimension,interpolation = cv.INTER_AREA)"
   ]
  },
  {
   "cell_type": "code",
   "execution_count": 4,
   "id": "11bf31bf",
   "metadata": {},
   "outputs": [],
   "source": [
    "#function to read images from the specified path and recognize text in the same using pytesseract\n",
    "\n",
    "def text_recognition(path_list):\n",
    "    text = []\n",
    "    for path in path_list:\n",
    "        im = cv.imread(path)\n",
    "        try:\n",
    "            im = resize_image(im)\n",
    "        except:\n",
    "            continue\n",
    "        text.append(pytesseract.image_to_string(im))\n",
    "    return text"
   ]
  },
  {
   "cell_type": "code",
   "execution_count": 5,
   "id": "8548b052",
   "metadata": {},
   "outputs": [],
   "source": [
    "#function to clean the retrieved text\n",
    "\n",
    "def text_preprocessing(text_list):\n",
    "    empty_list = []\n",
    "    char_list = ['\\n','|','@','~','+','*','/','..','  ','}','(','«','   ','\\\\','©','—','#']\n",
    "    for text in text_list:\n",
    "        for ch in char_list:\n",
    "            text = text.replace(ch,' ')\n",
    "        empty_list.append(text)\n",
    "    return empty_list"
   ]
  },
  {
   "cell_type": "code",
   "execution_count": 6,
   "id": "dd23b271",
   "metadata": {},
   "outputs": [],
   "source": [
    "#function to set the labels for memes,quotes and return pandas dataframe\n",
    "\n",
    "def set_labels(text_list,label):\n",
    "    d = {}\n",
    "    d['Text'] = text_list\n",
    "    d['Labels']= [label]* len(text_list)\n",
    "    df = pd.DataFrame(d)\n",
    "    return df"
   ]
  },
  {
   "cell_type": "code",
   "execution_count": 7,
   "id": "2b778304",
   "metadata": {},
   "outputs": [],
   "source": [
    "#returning the list of image paths\n",
    "\n",
    "meme_paths = glob.glob('..\\Desktop\\Memes\\*.jpg')\n",
    "quote_paths = glob.glob('..\\Desktop\\Quotes\\*.jpg')"
   ]
  },
  {
   "cell_type": "code",
   "execution_count": 8,
   "id": "c97d653a",
   "metadata": {},
   "outputs": [],
   "source": [
    "meme_text = text_recognition(meme_paths)\n",
    "quote_text = text_recognition(quote_paths)"
   ]
  },
  {
   "cell_type": "code",
   "execution_count": 9,
   "id": "d38056b7",
   "metadata": {},
   "outputs": [
    {
     "data": {
      "text/plain": [
       "['Everyone says love hurts, but that is\\nnot true, Loneliness hurts. Rejection\\nhurts, Losing someone hurts. Envy\\nhurts. Everyone gets these things\\nconfused with love, but in reality love\\nis the only thing in this world that\\ncovers up all pain and makes\\nsomeone feel wonderful again.\\nLove is the only thing in this world\\n\\nthat does not hurt. #-:—~\\n\\nLove Wide Open\\n\\n(heat of hing ert Se\\n',\n",
       " 'OF HAPPINESS.\\na Te ee\\n',\n",
       " 'Look for something\\npositive in every\\nday, even if some days\\nyou have to look\\na little harder.\\n\\n',\n",
       " '',\n",
       " '——\\n\\nHONEST RELATIONSHIPS\\n\\nWith-holding\\nuncomfortable facts, feelin\\n\\nanne\\ngreatest type of\\n\\n— known\\n',\n",
       " 'God\\n\\nis never\\n\\ntoo busy\\n\\nto hear\\n\\nYour prayers.\\n',\n",
       " \"Being happy doesn’t mean\\neverything is perfect.\\nIt means you've decided\\nto look beyond the\\nimperfections.\\n\\n\",\n",
       " \"Goa has a perfect\\ntiming; never early,\\nnever late. It take\\nlittle patience an\\n\\nfaith, but it's worth\\nthe wait...\\n\",\n",
       " 'Karma\\n\\nhink goo joughts, say\\n_nice things, do good for others.\\nEverything comes back.\\n\\n',\n",
       " '_ The way to”\\n} SS 1S!\\n\\nfrom hate, your\\n: mind from worry.\\n)\\\\ Live simply, give\\n_) much. Fill your life\\n= with love. Do as you\\nwould be done by.\\n\\nSAS\\n']"
      ]
     },
     "execution_count": 9,
     "metadata": {},
     "output_type": "execute_result"
    }
   ],
   "source": [
    "quote_text[:10]"
   ]
  },
  {
   "cell_type": "code",
   "execution_count": 10,
   "id": "2dbad437",
   "metadata": {},
   "outputs": [],
   "source": [
    "new_memes = text_preprocessing(meme_text)\n",
    "new_quotes = text_preprocessing(quote_text)"
   ]
  },
  {
   "cell_type": "code",
   "execution_count": 11,
   "id": "0c11897e",
   "metadata": {},
   "outputs": [
    {
     "data": {
      "text/plain": [
       "['Everyone says love hurts, but that is not true, Loneliness hurts. Rejection hurts, Losing someone hurts. Envy hurts. Everyone gets these things confused with love, but in reality love is the only thing in this world that covers up all pain and makes someone feel wonderful again. Love is the only thing in this world that does not hurt.  -:   Love Wide Open  heat of hing ert Se ',\n",
       " 'OF HAPPINESS. a Te ee ',\n",
       " 'Look for something positive in every day, even if some days you have to look a little harder. ',\n",
       " '',\n",
       " '   HONEST RELATIONSHIPS With-holding uncomfortable facts, feelin anne greatest type of   known ',\n",
       " 'God is never too busy to hear Your prayers. ',\n",
       " \"Being happy doesn’t mean everything is perfect. It means you've decided to look beyond the imperfections. \",\n",
       " \"Goa has a perfect timing; never early, never late. It take little patience an faith, but it's worth the wait . \",\n",
       " 'Karma hink goo joughts, say _nice things, do good for others. Everything comes back. ',\n",
       " '_ The way to” SS 1S! from hate, your : mind from worry. )  Live simply, give _) much. Fill your life = with love. Do as you would be done by. SAS ']"
      ]
     },
     "execution_count": 11,
     "metadata": {},
     "output_type": "execute_result"
    }
   ],
   "source": [
    "new_quotes[:10]"
   ]
  },
  {
   "cell_type": "code",
   "execution_count": 12,
   "id": "e365ec09",
   "metadata": {},
   "outputs": [],
   "source": [
    "memes_df = set_labels(new_memes,1)\n",
    "quotes_df = set_labels(new_quotes,0)"
   ]
  },
  {
   "cell_type": "code",
   "execution_count": 13,
   "id": "53c5976f",
   "metadata": {},
   "outputs": [],
   "source": [
    "#dropping empty rows from the dataframes\n",
    "\n",
    "memes_df.drop(memes_df[memes_df['Text']==''].index,inplace=True)\n",
    "quotes_df.drop(quotes_df[quotes_df['Text']==''].index,inplace=True)"
   ]
  },
  {
   "cell_type": "code",
   "execution_count": 14,
   "id": "8249477a",
   "metadata": {},
   "outputs": [],
   "source": [
    "#Merging two dataframes into one and shuffling the rows\n",
    "\n",
    "text_df = pd.concat([memes_df,quotes_df.iloc[:611,:]],axis=0).sample(frac = 1).reset_index()\n",
    "text_df.drop(['index'],axis=1,inplace=True)"
   ]
  },
  {
   "cell_type": "code",
   "execution_count": 15,
   "id": "dee53c5d",
   "metadata": {},
   "outputs": [
    {
     "data": {
      "text/html": [
       "<div>\n",
       "<style scoped>\n",
       "    .dataframe tbody tr th:only-of-type {\n",
       "        vertical-align: middle;\n",
       "    }\n",
       "\n",
       "    .dataframe tbody tr th {\n",
       "        vertical-align: top;\n",
       "    }\n",
       "\n",
       "    .dataframe thead th {\n",
       "        text-align: right;\n",
       "    }\n",
       "</style>\n",
       "<table border=\"1\" class=\"dataframe\">\n",
       "  <thead>\n",
       "    <tr style=\"text-align: right;\">\n",
       "      <th></th>\n",
       "      <th>Text</th>\n",
       "      <th>Labels</th>\n",
       "    </tr>\n",
       "  </thead>\n",
       "  <tbody>\n",
       "    <tr>\n",
       "      <th>0</th>\n",
       "      <td>Every time you get Dressed remember: If you Di...</td>\n",
       "      <td>1</td>\n",
       "    </tr>\n",
       "    <tr>\n",
       "      <th>1</th>\n",
       "      <td>TPve learned that no matter how much I care, s...</td>\n",
       "      <td>0</td>\n",
       "    </tr>\n",
       "    <tr>\n",
       "      <th>2</th>\n",
       "      <td>It all begins and ends in your mind. What you ...</td>\n",
       "      <td>0</td>\n",
       "    </tr>\n",
       "    <tr>\n",
       "      <th>3</th>\n",
       "      <td>When you complain, you make yourself a victim....</td>\n",
       "      <td>0</td>\n",
       "    </tr>\n",
       "    <tr>\n",
       "      <th>4</th>\n",
       "      <td>OB :. why do you still ive love to everyone? O...</td>\n",
       "      <td>0</td>\n",
       "    </tr>\n",
       "    <tr>\n",
       "      <th>5</th>\n",
       "      <td>The problem with the world is that the i intel...</td>\n",
       "      <td>0</td>\n",
       "    </tr>\n",
       "    <tr>\n",
       "      <th>6</th>\n",
       "      <td>My silence means  am tired of fighting and now...</td>\n",
       "      <td>0</td>\n",
       "    </tr>\n",
       "    <tr>\n",
       "      <th>7</th>\n",
       "      <td>Eso is just a small three letter word, which c...</td>\n",
       "      <td>0</td>\n",
       "    </tr>\n",
       "    <tr>\n",
       "      <th>8</th>\n",
       "      <td>Stop thinking too much, It’s alright not to kn...</td>\n",
       "      <td>0</td>\n",
       "    </tr>\n",
       "    <tr>\n",
       "      <th>9</th>\n",
       "      <td>Don't be impressed by money, followers, degree...</td>\n",
       "      <td>0</td>\n",
       "    </tr>\n",
       "  </tbody>\n",
       "</table>\n",
       "</div>"
      ],
      "text/plain": [
       "                                                Text  Labels\n",
       "0  Every time you get Dressed remember: If you Di...       1\n",
       "1  TPve learned that no matter how much I care, s...       0\n",
       "2  It all begins and ends in your mind. What you ...       0\n",
       "3  When you complain, you make yourself a victim....       0\n",
       "4  OB :. why do you still ive love to everyone? O...       0\n",
       "5  The problem with the world is that the i intel...       0\n",
       "6  My silence means  am tired of fighting and now...       0\n",
       "7  Eso is just a small three letter word, which c...       0\n",
       "8  Stop thinking too much, It’s alright not to kn...       0\n",
       "9  Don't be impressed by money, followers, degree...       0"
      ]
     },
     "execution_count": 15,
     "metadata": {},
     "output_type": "execute_result"
    }
   ],
   "source": [
    "text_df.head(10)"
   ]
  },
  {
   "cell_type": "code",
   "execution_count": 16,
   "id": "6163df5f",
   "metadata": {},
   "outputs": [],
   "source": [
    "text_df.to_csv('..\\Desktop\\Meme_Identification\\meme_quote.csv')"
   ]
  }
 ],
 "metadata": {
  "kernelspec": {
   "display_name": "Python 3 (ipykernel)",
   "language": "python",
   "name": "python3"
  },
  "language_info": {
   "codemirror_mode": {
    "name": "ipython",
    "version": 3
   },
   "file_extension": ".py",
   "mimetype": "text/x-python",
   "name": "python",
   "nbconvert_exporter": "python",
   "pygments_lexer": "ipython3",
   "version": "3.8.10"
  }
 },
 "nbformat": 4,
 "nbformat_minor": 5
}
