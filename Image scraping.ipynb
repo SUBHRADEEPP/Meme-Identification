{
 "cells": [
  {
   "cell_type": "markdown",
   "id": "c5bb01b9",
   "metadata": {},
   "source": [
    "<h2> Image scraping from Pinterest </h2>"
   ]
  },
  {
   "cell_type": "code",
   "execution_count": 1,
   "id": "7745c470",
   "metadata": {},
   "outputs": [],
   "source": [
    "import time\n",
    "import requests\n",
    "import bs4\n",
    "import shutil # to save it locally\n",
    "from selenium.webdriver import Chrome\n",
    "from selenium.webdriver import ChromeOptions\n",
    "import pandas as pd"
   ]
  },
  {
   "cell_type": "code",
   "execution_count": 26,
   "id": "60355b97",
   "metadata": {},
   "outputs": [],
   "source": [
    "#function to scrape images from pinterest infinite scrolling webpages\n",
    "\n",
    "def scrape_img_urls(pinterest_url):\n",
    "    options = ChromeOptions()\n",
    "    options.headless = True\n",
    "    driver = Chrome(options = options)\n",
    "    \n",
    "    driver.get(pinterest_url)\n",
    "    \n",
    "    time.sleep(1)    # Allow 1 seconds for the web page to open\n",
    "    scroll_pause_time = 2  # You can set your own pause time. My laptop is a bit slow so I use 2 sec\n",
    "    screen_height = driver.execute_script(\"return window.screen.height;\")  # get the screen height of the web\n",
    "    \n",
    "    i=0\n",
    "    urls = []\n",
    "    \n",
    "    # simulating inifinite scrolling\n",
    "    while True:\n",
    "        # scroll one screen height each time\n",
    "        driver.execute_script(\"window.scrollTo({screen_height}*{i}, {screen_height}*{j});\".format(screen_height=screen_height, i=i,j=i+1))  \n",
    "        i += 1\n",
    "        time.sleep(scroll_pause_time)\n",
    "        \n",
    "        soup = bs4.BeautifulSoup(driver.page_source,'lxml')\n",
    "        image_tags = soup.find_all('img',class_='hCL kVc L4E MIw')\n",
    "        for image in image_tags:\n",
    "            urls.append(image['src'])\n",
    "        \n",
    "        # update scroll height each time after scrolled, as the scroll height can change after we scrolled the page\n",
    "        scroll_height = driver.execute_script(\"return document.body.scrollHeight;\")\n",
    "        \n",
    "        # Break the loop when the height we need to scroll to is larger than the total scroll height\n",
    "        if (screen_height) * i > scroll_height:\n",
    "            break\n",
    "    \n",
    "    Image_urls = set(urls)\n",
    "    \n",
    "    return list(Image_urls)\n",
    "    "
   ]
  },
  {
   "cell_type": "code",
   "execution_count": 27,
   "id": "9210ad6b",
   "metadata": {},
   "outputs": [],
   "source": [
    "#function to download the images to a local drive\n",
    "\n",
    "def download_images(urls,file_path):\n",
    "    for url in urls:\n",
    "        img_file = url.split(\"/\")[-1]\n",
    "        r = requests.get(url, stream = True) # Open the url image, set stream to True, this will return the stream content.\n",
    "        if r.status_code == 200:\n",
    "            r.raw.decode_content = True      # Set decode_content value to True, otherwise the downloaded image file's size will be zero.\n",
    "            filename = file_path + img_file\n",
    "            with open(filename,'wb') as f:   # Open a local file with wb ( write binary ) permission\n",
    "                    shutil.copyfileobj(r.raw, f)  "
   ]
  },
  {
   "cell_type": "code",
   "execution_count": 28,
   "id": "9c5dfee7",
   "metadata": {},
   "outputs": [],
   "source": [
    "url_memes ='https://www.pinterest.com/mohammedshafrandj/english-memes/'\n",
    "url_quotes = 'https://in.pinterest.com/sreevenireddy/english-quotes/'"
   ]
  },
  {
   "cell_type": "code",
   "execution_count": 29,
   "id": "3d843272",
   "metadata": {},
   "outputs": [],
   "source": [
    "meme_urls = scrape_img_urls(url_memes)\n",
    "quote_urls = scrape_img_urls(url_quotes)"
   ]
  },
  {
   "cell_type": "code",
   "execution_count": 33,
   "id": "bb42e62c",
   "metadata": {},
   "outputs": [],
   "source": [
    "file_path = \"C:\\\\Users\\\\subhr\\\\Desktop\\\\Quotes\\\\\"\n",
    "download_images(quote_urls,file_path)"
   ]
  },
  {
   "cell_type": "code",
   "execution_count": 34,
   "id": "d51bef13",
   "metadata": {},
   "outputs": [],
   "source": [
    "file_path = \"C:\\\\Users\\\\subhr\\\\Desktop\\\\Memes\\\\\"\n",
    "download_images(meme_urls,file_path)"
   ]
  }
 ],
 "metadata": {
  "kernelspec": {
   "display_name": "Python 3 (ipykernel)",
   "language": "python",
   "name": "python3"
  },
  "language_info": {
   "codemirror_mode": {
    "name": "ipython",
    "version": 3
   },
   "file_extension": ".py",
   "mimetype": "text/x-python",
   "name": "python",
   "nbconvert_exporter": "python",
   "pygments_lexer": "ipython3",
   "version": "3.8.10"
  }
 },
 "nbformat": 4,
 "nbformat_minor": 5
}
