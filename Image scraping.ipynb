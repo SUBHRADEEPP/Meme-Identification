{
 "cells": [
  {
   "cell_type": "code",
   "execution_count": 15,
   "id": "4c362abd",
   "metadata": {},
   "outputs": [],
   "source": [
    "import requests\n",
    "import bs4\n",
    "import shutil # to save it locally"
   ]
  },
  {
   "cell_type": "code",
   "execution_count": 16,
   "id": "9c5dfee7",
   "metadata": {},
   "outputs": [],
   "source": [
    "#url_memes ='https://www.pinterest.com/mohammedshafrandj/english-memes/'\n",
    "url_quotes = 'https://in.pinterest.com/sreevenireddy/english-quotes/'"
   ]
  },
  {
   "cell_type": "code",
   "execution_count": 17,
   "id": "ff0228b5",
   "metadata": {},
   "outputs": [],
   "source": [
    "#page_req_memes = requests.get(url_memes)\n",
    "page_req_quotes = requests.get(url_quotes)\n",
    "#page_soup_memes = bs4.BeautifulSoup(page_req_memes.content,'lxml')\n",
    "page_soup_quotes = bs4.BeautifulSoup(page_req_quotes.content,'lxml')"
   ]
  },
  {
   "cell_type": "code",
   "execution_count": 18,
   "id": "06f92fc7",
   "metadata": {},
   "outputs": [],
   "source": [
    "image_tags = page_soup_quotes.find_all('img',class_='hCL kVc L4E MIw')"
   ]
  },
  {
   "cell_type": "code",
   "execution_count": 19,
   "id": "a56a9e41",
   "metadata": {},
   "outputs": [
    {
     "data": {
      "text/plain": [
       "26"
      ]
     },
     "execution_count": 19,
     "metadata": {},
     "output_type": "execute_result"
    }
   ],
   "source": [
    "len(image_tags)"
   ]
  },
  {
   "cell_type": "code",
   "execution_count": 20,
   "id": "13fd68a2",
   "metadata": {},
   "outputs": [],
   "source": [
    "image_urls = []\n",
    "for image in image_tags:\n",
    "    image_urls.append(image['src'])"
   ]
  },
  {
   "cell_type": "code",
   "execution_count": 21,
   "id": "3d843272",
   "metadata": {},
   "outputs": [],
   "source": [
    "def download_images(urls,file_path):\n",
    "    for url in urls:\n",
    "        img_file = url.split(\"/\")[-1]\n",
    "        r = requests.get(url, stream = True) # Open the url image, set stream to True, this will return the stream content.\n",
    "        if r.status_code == 200:\n",
    "            r.raw.decode_content = True      # Set decode_content value to True, otherwise the downloaded image file's size will be zero.\n",
    "            filename = file_path + img_file\n",
    "            with open(filename,'wb') as f:   # Open a local file with wb ( write binary ) permission\n",
    "                    shutil.copyfileobj(r.raw, f)       "
   ]
  },
  {
   "cell_type": "code",
   "execution_count": 22,
   "id": "bb42e62c",
   "metadata": {},
   "outputs": [],
   "source": [
    "file_path = \"C:\\\\Users\\\\subhr\\\\Desktop\\\\Quotes\\\\\"\n",
    "download_images(image_urls,file_path)"
   ]
  },
  {
   "cell_type": "code",
   "execution_count": null,
   "id": "d51bef13",
   "metadata": {},
   "outputs": [],
   "source": []
  }
 ],
 "metadata": {
  "kernelspec": {
   "display_name": "Python 3 (ipykernel)",
   "language": "python",
   "name": "python3"
  },
  "language_info": {
   "codemirror_mode": {
    "name": "ipython",
    "version": 3
   },
   "file_extension": ".py",
   "mimetype": "text/x-python",
   "name": "python",
   "nbconvert_exporter": "python",
   "pygments_lexer": "ipython3",
   "version": "3.8.15"
  }
 },
 "nbformat": 4,
 "nbformat_minor": 5
}
